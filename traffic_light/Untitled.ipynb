{
 "cells": [
  {
   "cell_type": "code",
   "execution_count": 1,
   "id": "355edf41-74b0-4d8b-bc7e-5b8e26db6c7a",
   "metadata": {},
   "outputs": [],
   "source": [
    "import numpy as np\n",
    "import pandas as pd\n",
    "import seaborn as sns\n",
    "import matplotlib.pyplot as plt\n",
    "import matplotlib.image as mpimg\n",
    "import os\n",
    "import cv2"
   ]
  },
  {
   "cell_type": "code",
   "execution_count": 2,
   "id": "e3840781-df52-4713-8289-62d2fe2ad256",
   "metadata": {},
   "outputs": [],
   "source": [
    "from keras.utils import to_categorical"
   ]
  },
  {
   "cell_type": "code",
   "execution_count": 3,
   "id": "80e567f5-fee0-4130-8f02-3e700791aa16",
   "metadata": {},
   "outputs": [],
   "source": [
    "X_train = []\n",
    "y_train = []\n",
    "\n",
    "dataset_path = 'traffic-light-detection-and-classification (1)/traffic-light-detection-and-classification (1)/train/'\n",
    "label_map = {'red': 0, 'green': 1, 'yellow': 2}  \n",
    "\n",
    "for i in os.listdir(dataset_path):\n",
    "    folder_path = os.path.join(dataset_path, i)\n",
    "    if not os.path.isdir(folder_path):\n",
    "        continue\n",
    "    for j in os.listdir(folder_path):\n",
    "        try:\n",
    "            img_path = os.path.join(folder_path, j)\n",
    "            image = mpimg.imread(img_path)  \n",
    "            image = cv2.resize(image, (400, 400))\n",
    "            image = cv2.cvtColor(image, cv2.COLOR_RGB2GRAY)\n",
    "            image = image.reshape(400, 400, 1)\n",
    "            image = image.astype(np.float32) / 255.0\n",
    "            X_train.append(image)\n",
    "            y_train.append(label_map.get(i, -1))  \n",
    "        except Exception as e:\n",
    "            continue\n",
    "X_train = np.array(X_train)\n",
    "y_train = np.array(y_train)"
   ]
  },
  {
   "cell_type": "code",
   "execution_count": 4,
   "id": "073061e6-20d1-441f-b77c-ba5398aec344",
   "metadata": {},
   "outputs": [],
   "source": [
    "# X_train = []\n",
    "# y_train = []\n",
    "\n",
    "# for i in os.listdir('traffic-light-detection-and-classification (1)/traffic-light-detection-and-classification (1)/train/'):\n",
    "#     for j in os.listdir(f'traffic-light-detection-and-classification (1)/traffic-light-detection-and-classification (1)/train/{i}'):\n",
    "#         try:\n",
    "#             image = mpimg.imread(f'traffic-light-detection-and-classification (1)/traffic-light-detection-and-classification (1)/train/{i}/{j}')\n",
    "#             image = cv2.resize(image, (400, 400))\n",
    "#             image = image.reshape(400, 400, 1)\n",
    "#             image = image / 255\n",
    "#             X_train.append(image)\n",
    "#             y_train.append(i)\n",
    "#         except:\n",
    "#             continue\n",
    "# X_train = np.array(X_train)\n",
    "# y_train = np.array(y_train)"
   ]
  },
  {
   "cell_type": "code",
   "execution_count": 5,
   "id": "235db4bf-9778-47d9-b020-f29125561888",
   "metadata": {},
   "outputs": [],
   "source": [
    "X_test = []\n",
    "y_test = []\n",
    "\n",
    "dataset_path = 'traffic-light-detection-and-classification (1)/traffic-light-detection-and-classification (1)/test/'\n",
    "label_map = {'red': 0, 'green': 1, 'yellow': 2}  \n",
    "\n",
    "for i in os.listdir(dataset_path):\n",
    "    folder_path = os.path.join(dataset_path, i)\n",
    "    if not os.path.isdir(folder_path):\n",
    "        continue\n",
    "    for j in os.listdir(folder_path):\n",
    "        try:\n",
    "            img_path = os.path.join(folder_path, j)\n",
    "            image = mpimg.imread(img_path)  \n",
    "            image = cv2.resize(image, (400, 400))\n",
    "            image = cv2.cvtColor(image, cv2.COLOR_RGB2GRAY)\n",
    "            image = image.reshape(400, 400, 1)\n",
    "            image = image.astype(np.float32) / 255.0\n",
    "            X_train.append(image)\n",
    "            y_train.append(label_map.get(i, -1))  \n",
    "        except Exception as e:\n",
    "            continue\n",
    "X_test = np.array(X_test)\n",
    "y_test = np.array(y_test)"
   ]
  },
  {
   "cell_type": "code",
   "execution_count": 6,
   "id": "0d62b774-48e4-4eb0-9e74-3a1f756140e7",
   "metadata": {},
   "outputs": [
    {
     "data": {
      "text/plain": [
       "(3447, 400, 400, 1)"
      ]
     },
     "execution_count": 6,
     "metadata": {},
     "output_type": "execute_result"
    }
   ],
   "source": [
    "X_train.shape"
   ]
  },
  {
   "cell_type": "code",
   "execution_count": 7,
   "id": "c28279f0-fc6d-4580-8732-d921d44da8c5",
   "metadata": {},
   "outputs": [
    {
     "data": {
      "text/plain": [
       "(3447,)"
      ]
     },
     "execution_count": 7,
     "metadata": {},
     "output_type": "execute_result"
    }
   ],
   "source": [
    "y_train.shape"
   ]
  },
  {
   "cell_type": "code",
   "execution_count": 9,
   "id": "4bdf24fa-6c8b-4574-8369-0efb596c00d0",
   "metadata": {},
   "outputs": [],
   "source": [
    "y_train = to_categorical(y_train, num_classes=2)\n",
    "y_test = to_categorical(y_test, num_classes=2)\n"
   ]
  },
  {
   "cell_type": "code",
   "execution_count": 10,
   "id": "63baafd6-7dfa-4a4d-9b40-e2e70a673af1",
   "metadata": {},
   "outputs": [],
   "source": [
    "from keras import Sequential\n",
    "from keras.layers import Dense, Conv2D, MaxPooling2D, Flatten, Dropout"
   ]
  },
  {
   "cell_type": "code",
   "execution_count": 11,
   "id": "3fa62dfa-e0e6-4e77-b93a-9e8388fc5d4e",
   "metadata": {},
   "outputs": [],
   "source": [
    "X_train = X_train.reshape(-1, 400, 400, 1)\n",
    "X_test = X_test.reshape(-1, 400, 400, 1)"
   ]
  },
  {
   "cell_type": "code",
   "execution_count": 15,
   "id": "ce7edf78-b102-4aae-8e1c-3914a4d1b01e",
   "metadata": {},
   "outputs": [],
   "source": [
    "model = Sequential()\n",
    "\n",
    "model.add(Conv2D(filters=32, kernel_size=(5, 5), activation='relu', input_shape=(400, 400, 1)))\n",
    "model.add(MaxPooling2D(pool_size=(2, 2)))\n",
    "\n",
    "model.add(Conv2D(filters=16, kernel_size=(3, 3), activation='relu'))\n",
    "model.add(MaxPooling2D(pool_size=(2, 2)))\n",
    "\n",
    "model.add(Flatten())\n",
    "\n",
    "model.add(Dense(30, activation='relu'))\n",
    "model.add(Dense(16, activation='relu'))\n",
    "model.add(Dense(2, activation='softmax'))"
   ]
  },
  {
   "cell_type": "code",
   "execution_count": 16,
   "id": "5d5b4cb2-4788-45ae-9e73-41914e54f73e",
   "metadata": {},
   "outputs": [],
   "source": [
    "model.compile(optimizer='adam', loss='categorical_crossentropy', metrics=['accuracy'])"
   ]
  },
  {
   "cell_type": "code",
   "execution_count": null,
   "id": "0aeb8808-48ed-4c7e-8d49-a6bacc622605",
   "metadata": {},
   "outputs": [
    {
     "name": "stdout",
     "output_type": "stream",
     "text": [
      "Epoch 1/10\n",
      "\u001b[1m 24/108\u001b[0m \u001b[32m━━━━\u001b[0m\u001b[37m━━━━━━━━━━━━━━━━\u001b[0m \u001b[1m1:04\u001b[0m 764ms/step - accuracy: 1.0000 - loss: 0.1020"
     ]
    }
   ],
   "source": [
    "model.fit(X_train, y_train, validation_data=(X_test, y_test), epochs=10)"
   ]
  },
  {
   "cell_type": "code",
   "execution_count": null,
   "id": "faaeb83b-5c97-4a3e-8b87-95f81d7513ec",
   "metadata": {},
   "outputs": [],
   "source": []
  }
 ],
 "metadata": {
  "kernelspec": {
   "display_name": "Python 3 (ipykernel)",
   "language": "python",
   "name": "python3"
  },
  "language_info": {
   "codemirror_mode": {
    "name": "ipython",
    "version": 3
   },
   "file_extension": ".py",
   "mimetype": "text/x-python",
   "name": "python",
   "nbconvert_exporter": "python",
   "pygments_lexer": "ipython3",
   "version": "3.10.3"
  }
 },
 "nbformat": 4,
 "nbformat_minor": 5
}
